{
 "cells": [
  {
   "cell_type": "markdown",
   "id": "8cc36111",
   "metadata": {},
   "source": [
    "## TASK 2.1 Preprocessing"
   ]
  },
  {
   "cell_type": "code",
   "execution_count": 2,
   "id": "21336a02",
   "metadata": {},
   "outputs": [],
   "source": [
    "# importing important library\n",
    "\n",
    "import pandas as pd\n",
    "import numpy as np \n",
    "import warnings\n",
    "warnings.filterwarnings('ignore') \n",
    "import matplotlib.pyplot as plt\n",
    "import seaborn as sns\n",
    "from sklearn.preprocessing import LabelEncoder\n",
    "from sklearn.impute import SimpleImputer\n",
    "from sklearn.preprocessing import MinMaxScaler\n",
    "from sklearn.model_selection import train_test_split\n",
    "from sklearn.ensemble import RandomForestRegressor\n",
    "from sklearn.pipeline import Pipeline\n",
    "from sklearn.compose import ColumnTransformer\n",
    "from sklearn.preprocessing import OneHotEncoder, StandardScaler\n",
    "from sklearn.impute import SimpleImputer\n",
    "from sklearn.metrics import mean_squared_error\n",
    "from sklearn.linear_model import LinearRegression\n",
    "from sklearn.tree import DecisionTreeRegressor\n"
   ]
  },
  {
   "cell_type": "code",
   "execution_count": 3,
   "id": "8f84d173",
   "metadata": {},
   "outputs": [],
   "source": [
    "df_train=pd.read_csv('E:\\\\DATA science\\\\Intership Programm\\\\Pharmaceutical Sales prediction\\\\clean_trainScore.csv')\n",
    "df_test=pd.read_csv('E:\\\\DATA science\\\\Intership Programm\\\\Pharmaceutical Sales prediction\\\\test.csv')"
   ]
  },
  {
   "cell_type": "code",
   "execution_count": 4,
   "id": "f3786ac6",
   "metadata": {},
   "outputs": [],
   "source": [
    "pd.set_option('display.max_columns',None)"
   ]
  },
  {
   "cell_type": "code",
   "execution_count": 5,
   "id": "47b97b54",
   "metadata": {},
   "outputs": [
    {
     "data": {
      "text/plain": [
       "(41088, 8)"
      ]
     },
     "execution_count": 5,
     "metadata": {},
     "output_type": "execute_result"
    }
   ],
   "source": [
    "df_test.shape"
   ]
  },
  {
   "cell_type": "code",
   "execution_count": 6,
   "id": "6aa400c1",
   "metadata": {},
   "outputs": [
    {
     "data": {
      "text/plain": [
       "(1017209, 23)"
      ]
     },
     "execution_count": 6,
     "metadata": {},
     "output_type": "execute_result"
    }
   ],
   "source": [
    "df_train.shape"
   ]
  },
  {
   "cell_type": "code",
   "execution_count": 7,
   "id": "4e814c46",
   "metadata": {},
   "outputs": [
    {
     "data": {
      "text/html": [
       "<div>\n",
       "<style scoped>\n",
       "    .dataframe tbody tr th:only-of-type {\n",
       "        vertical-align: middle;\n",
       "    }\n",
       "\n",
       "    .dataframe tbody tr th {\n",
       "        vertical-align: top;\n",
       "    }\n",
       "\n",
       "    .dataframe thead th {\n",
       "        text-align: right;\n",
       "    }\n",
       "</style>\n",
       "<table border=\"1\" class=\"dataframe\">\n",
       "  <thead>\n",
       "    <tr style=\"text-align: right;\">\n",
       "      <th></th>\n",
       "      <th>Store</th>\n",
       "      <th>DayOfWeek</th>\n",
       "      <th>Sales</th>\n",
       "      <th>Customers</th>\n",
       "      <th>Open</th>\n",
       "      <th>Promo</th>\n",
       "      <th>StateHoliday</th>\n",
       "      <th>SchoolHoliday</th>\n",
       "      <th>Year</th>\n",
       "      <th>Month</th>\n",
       "      <th>Day</th>\n",
       "      <th>WeekOfYear</th>\n",
       "      <th>Dates</th>\n",
       "      <th>StoreType</th>\n",
       "      <th>Assortment</th>\n",
       "      <th>CompetitionDistance</th>\n",
       "      <th>CompetitionOpenSinceMonth</th>\n",
       "      <th>CompetitionOpenSinceYear</th>\n",
       "      <th>Promo2</th>\n",
       "      <th>Promo2SinceWeek</th>\n",
       "      <th>Promo2SinceYear</th>\n",
       "      <th>PromoInterval</th>\n",
       "      <th>SalesperCustomer</th>\n",
       "    </tr>\n",
       "  </thead>\n",
       "  <tbody>\n",
       "    <tr>\n",
       "      <th>0</th>\n",
       "      <td>1</td>\n",
       "      <td>5</td>\n",
       "      <td>5263.0</td>\n",
       "      <td>555.0</td>\n",
       "      <td>1</td>\n",
       "      <td>1</td>\n",
       "      <td>0</td>\n",
       "      <td>1</td>\n",
       "      <td>2015</td>\n",
       "      <td>7</td>\n",
       "      <td>31</td>\n",
       "      <td>31</td>\n",
       "      <td>2015-07-31</td>\n",
       "      <td>c</td>\n",
       "      <td>a</td>\n",
       "      <td>1270.0</td>\n",
       "      <td>9.0</td>\n",
       "      <td>2008.0</td>\n",
       "      <td>0</td>\n",
       "      <td>0.0</td>\n",
       "      <td>0.0</td>\n",
       "      <td>0</td>\n",
       "      <td>9.482883</td>\n",
       "    </tr>\n",
       "    <tr>\n",
       "      <th>1</th>\n",
       "      <td>1</td>\n",
       "      <td>4</td>\n",
       "      <td>5020.0</td>\n",
       "      <td>546.0</td>\n",
       "      <td>1</td>\n",
       "      <td>1</td>\n",
       "      <td>0</td>\n",
       "      <td>1</td>\n",
       "      <td>2015</td>\n",
       "      <td>7</td>\n",
       "      <td>30</td>\n",
       "      <td>31</td>\n",
       "      <td>2015-07-30</td>\n",
       "      <td>c</td>\n",
       "      <td>a</td>\n",
       "      <td>1270.0</td>\n",
       "      <td>9.0</td>\n",
       "      <td>2008.0</td>\n",
       "      <td>0</td>\n",
       "      <td>0.0</td>\n",
       "      <td>0.0</td>\n",
       "      <td>0</td>\n",
       "      <td>9.194139</td>\n",
       "    </tr>\n",
       "    <tr>\n",
       "      <th>2</th>\n",
       "      <td>1</td>\n",
       "      <td>3</td>\n",
       "      <td>4782.0</td>\n",
       "      <td>523.0</td>\n",
       "      <td>1</td>\n",
       "      <td>1</td>\n",
       "      <td>0</td>\n",
       "      <td>1</td>\n",
       "      <td>2015</td>\n",
       "      <td>7</td>\n",
       "      <td>29</td>\n",
       "      <td>31</td>\n",
       "      <td>2015-07-29</td>\n",
       "      <td>c</td>\n",
       "      <td>a</td>\n",
       "      <td>1270.0</td>\n",
       "      <td>9.0</td>\n",
       "      <td>2008.0</td>\n",
       "      <td>0</td>\n",
       "      <td>0.0</td>\n",
       "      <td>0.0</td>\n",
       "      <td>0</td>\n",
       "      <td>9.143403</td>\n",
       "    </tr>\n",
       "    <tr>\n",
       "      <th>3</th>\n",
       "      <td>1</td>\n",
       "      <td>2</td>\n",
       "      <td>5011.0</td>\n",
       "      <td>560.0</td>\n",
       "      <td>1</td>\n",
       "      <td>1</td>\n",
       "      <td>0</td>\n",
       "      <td>1</td>\n",
       "      <td>2015</td>\n",
       "      <td>7</td>\n",
       "      <td>28</td>\n",
       "      <td>31</td>\n",
       "      <td>2015-07-28</td>\n",
       "      <td>c</td>\n",
       "      <td>a</td>\n",
       "      <td>1270.0</td>\n",
       "      <td>9.0</td>\n",
       "      <td>2008.0</td>\n",
       "      <td>0</td>\n",
       "      <td>0.0</td>\n",
       "      <td>0.0</td>\n",
       "      <td>0</td>\n",
       "      <td>8.948214</td>\n",
       "    </tr>\n",
       "    <tr>\n",
       "      <th>4</th>\n",
       "      <td>1</td>\n",
       "      <td>1</td>\n",
       "      <td>6102.0</td>\n",
       "      <td>612.0</td>\n",
       "      <td>1</td>\n",
       "      <td>1</td>\n",
       "      <td>0</td>\n",
       "      <td>1</td>\n",
       "      <td>2015</td>\n",
       "      <td>7</td>\n",
       "      <td>27</td>\n",
       "      <td>31</td>\n",
       "      <td>2015-07-27</td>\n",
       "      <td>c</td>\n",
       "      <td>a</td>\n",
       "      <td>1270.0</td>\n",
       "      <td>9.0</td>\n",
       "      <td>2008.0</td>\n",
       "      <td>0</td>\n",
       "      <td>0.0</td>\n",
       "      <td>0.0</td>\n",
       "      <td>0</td>\n",
       "      <td>9.970588</td>\n",
       "    </tr>\n",
       "  </tbody>\n",
       "</table>\n",
       "</div>"
      ],
      "text/plain": [
       "   Store  DayOfWeek   Sales  Customers  Open  Promo StateHoliday  \\\n",
       "0      1          5  5263.0      555.0     1      1            0   \n",
       "1      1          4  5020.0      546.0     1      1            0   \n",
       "2      1          3  4782.0      523.0     1      1            0   \n",
       "3      1          2  5011.0      560.0     1      1            0   \n",
       "4      1          1  6102.0      612.0     1      1            0   \n",
       "\n",
       "   SchoolHoliday  Year  Month  Day  WeekOfYear       Dates StoreType  \\\n",
       "0              1  2015      7   31          31  2015-07-31         c   \n",
       "1              1  2015      7   30          31  2015-07-30         c   \n",
       "2              1  2015      7   29          31  2015-07-29         c   \n",
       "3              1  2015      7   28          31  2015-07-28         c   \n",
       "4              1  2015      7   27          31  2015-07-27         c   \n",
       "\n",
       "  Assortment  CompetitionDistance  CompetitionOpenSinceMonth  \\\n",
       "0          a               1270.0                        9.0   \n",
       "1          a               1270.0                        9.0   \n",
       "2          a               1270.0                        9.0   \n",
       "3          a               1270.0                        9.0   \n",
       "4          a               1270.0                        9.0   \n",
       "\n",
       "   CompetitionOpenSinceYear  Promo2  Promo2SinceWeek  Promo2SinceYear  \\\n",
       "0                    2008.0       0              0.0              0.0   \n",
       "1                    2008.0       0              0.0              0.0   \n",
       "2                    2008.0       0              0.0              0.0   \n",
       "3                    2008.0       0              0.0              0.0   \n",
       "4                    2008.0       0              0.0              0.0   \n",
       "\n",
       "  PromoInterval  SalesperCustomer  \n",
       "0             0          9.482883  \n",
       "1             0          9.194139  \n",
       "2             0          9.143403  \n",
       "3             0          8.948214  \n",
       "4             0          9.970588  "
      ]
     },
     "execution_count": 7,
     "metadata": {},
     "output_type": "execute_result"
    }
   ],
   "source": [
    "df_train.head()"
   ]
  },
  {
   "cell_type": "code",
   "execution_count": 8,
   "id": "337e9406",
   "metadata": {},
   "outputs": [
    {
     "data": {
      "text/plain": [
       "Index(['Store', 'DayOfWeek', 'Sales', 'Customers', 'Open', 'Promo',\n",
       "       'StateHoliday', 'SchoolHoliday', 'Year', 'Month', 'Day', 'WeekOfYear',\n",
       "       'Dates', 'StoreType', 'Assortment', 'CompetitionDistance',\n",
       "       'CompetitionOpenSinceMonth', 'CompetitionOpenSinceYear', 'Promo2',\n",
       "       'Promo2SinceWeek', 'Promo2SinceYear', 'PromoInterval',\n",
       "       'SalesperCustomer'],\n",
       "      dtype='object')"
      ]
     },
     "execution_count": 8,
     "metadata": {},
     "output_type": "execute_result"
    }
   ],
   "source": [
    "df_train.columns"
   ]
  },
  {
   "cell_type": "markdown",
   "id": "c6148742",
   "metadata": {},
   "source": [
    "### need to extract\n",
    "\n",
    "* weekdays\n",
    "* weekends\n",
    "* number of days to holidays\n",
    "* Number of days after holiday\n",
    "* Beginning of month, mid month and ending of month"
   ]
  },
  {
   "cell_type": "code",
   "execution_count": 9,
   "id": "4fa3babd",
   "metadata": {},
   "outputs": [],
   "source": [
    "train_df = df_train.copy()"
   ]
  },
  {
   "cell_type": "code",
   "execution_count": 10,
   "id": "0cb76a97",
   "metadata": {},
   "outputs": [],
   "source": [
    "#converting Dates column into datetime formate\n",
    "train_df['Dates'] = pd.to_datetime(train_df['Dates'])"
   ]
  },
  {
   "cell_type": "code",
   "execution_count": 11,
   "id": "723a8751",
   "metadata": {},
   "outputs": [],
   "source": [
    "#Addition of weekdays column into Dataframe and +1 is to get monday at 1\n",
    "train_df['weekdays'] = train_df['Dates'].dt.weekday + 1"
   ]
  },
  {
   "cell_type": "code",
   "execution_count": 12,
   "id": "27c395d5",
   "metadata": {},
   "outputs": [
    {
     "data": {
      "text/plain": [
       "0    5\n",
       "1    4\n",
       "2    3\n",
       "3    2\n",
       "4    1\n",
       "Name: weekdays, dtype: int64"
      ]
     },
     "execution_count": 12,
     "metadata": {},
     "output_type": "execute_result"
    }
   ],
   "source": [
    "train_df['weekdays'].head()\n"
   ]
  },
  {
   "cell_type": "code",
   "execution_count": 13,
   "id": "65057069",
   "metadata": {},
   "outputs": [],
   "source": [
    "# weekend\n",
    "train_df['Weekends'] = train_df['Dates'].dt.weekday + 1"
   ]
  },
  {
   "cell_type": "code",
   "execution_count": 14,
   "id": "14cbd7a5",
   "metadata": {},
   "outputs": [],
   "source": [
    "# This code will replace sunday and saturday as 0 \n",
    "train_df['Weekends'] = train_df['Weekends'].mask(train_df['Weekends'].values >= 6, 0)"
   ]
  },
  {
   "cell_type": "code",
   "execution_count": 15,
   "id": "4114468f",
   "metadata": {},
   "outputs": [
    {
     "data": {
      "text/html": [
       "<div>\n",
       "<style scoped>\n",
       "    .dataframe tbody tr th:only-of-type {\n",
       "        vertical-align: middle;\n",
       "    }\n",
       "\n",
       "    .dataframe tbody tr th {\n",
       "        vertical-align: top;\n",
       "    }\n",
       "\n",
       "    .dataframe thead th {\n",
       "        text-align: right;\n",
       "    }\n",
       "</style>\n",
       "<table border=\"1\" class=\"dataframe\">\n",
       "  <thead>\n",
       "    <tr style=\"text-align: right;\">\n",
       "      <th></th>\n",
       "      <th>weekdays</th>\n",
       "      <th>Weekends</th>\n",
       "    </tr>\n",
       "  </thead>\n",
       "  <tbody>\n",
       "    <tr>\n",
       "      <th>0</th>\n",
       "      <td>5</td>\n",
       "      <td>5</td>\n",
       "    </tr>\n",
       "    <tr>\n",
       "      <th>1</th>\n",
       "      <td>4</td>\n",
       "      <td>4</td>\n",
       "    </tr>\n",
       "    <tr>\n",
       "      <th>2</th>\n",
       "      <td>3</td>\n",
       "      <td>3</td>\n",
       "    </tr>\n",
       "    <tr>\n",
       "      <th>3</th>\n",
       "      <td>2</td>\n",
       "      <td>2</td>\n",
       "    </tr>\n",
       "    <tr>\n",
       "      <th>4</th>\n",
       "      <td>1</td>\n",
       "      <td>1</td>\n",
       "    </tr>\n",
       "  </tbody>\n",
       "</table>\n",
       "</div>"
      ],
      "text/plain": [
       "   weekdays  Weekends\n",
       "0         5         5\n",
       "1         4         4\n",
       "2         3         3\n",
       "3         2         2\n",
       "4         1         1"
      ]
     },
     "execution_count": 15,
     "metadata": {},
     "output_type": "execute_result"
    }
   ],
   "source": [
    "train_df[['weekdays','Weekends']].head()"
   ]
  },
  {
   "cell_type": "code",
   "execution_count": 16,
   "id": "c34804ae",
   "metadata": {},
   "outputs": [],
   "source": [
    "#creating csv file for future reference\n",
    "train_df.to_csv('train_df.csv', index=False)"
   ]
  },
  {
   "cell_type": "code",
   "execution_count": 17,
   "id": "93fbb10c",
   "metadata": {},
   "outputs": [
    {
     "data": {
      "text/plain": [
       "dtype('int64')"
      ]
     },
     "execution_count": 17,
     "metadata": {},
     "output_type": "execute_result"
    }
   ],
   "source": [
    "train_df.weekdays.dtype"
   ]
  },
  {
   "cell_type": "code",
   "execution_count": 18,
   "id": "a9f3c030",
   "metadata": {},
   "outputs": [
    {
     "data": {
      "text/html": [
       "<div>\n",
       "<style scoped>\n",
       "    .dataframe tbody tr th:only-of-type {\n",
       "        vertical-align: middle;\n",
       "    }\n",
       "\n",
       "    .dataframe tbody tr th {\n",
       "        vertical-align: top;\n",
       "    }\n",
       "\n",
       "    .dataframe thead th {\n",
       "        text-align: right;\n",
       "    }\n",
       "</style>\n",
       "<table border=\"1\" class=\"dataframe\">\n",
       "  <thead>\n",
       "    <tr style=\"text-align: right;\">\n",
       "      <th></th>\n",
       "      <th>Store</th>\n",
       "      <th>DayOfWeek</th>\n",
       "      <th>Sales</th>\n",
       "      <th>Customers</th>\n",
       "      <th>Open</th>\n",
       "      <th>Promo</th>\n",
       "      <th>StateHoliday</th>\n",
       "      <th>SchoolHoliday</th>\n",
       "      <th>Year</th>\n",
       "      <th>Month</th>\n",
       "      <th>Day</th>\n",
       "      <th>WeekOfYear</th>\n",
       "      <th>Dates</th>\n",
       "      <th>StoreType</th>\n",
       "      <th>Assortment</th>\n",
       "      <th>CompetitionDistance</th>\n",
       "      <th>CompetitionOpenSinceMonth</th>\n",
       "      <th>CompetitionOpenSinceYear</th>\n",
       "      <th>Promo2</th>\n",
       "      <th>Promo2SinceWeek</th>\n",
       "      <th>Promo2SinceYear</th>\n",
       "      <th>PromoInterval</th>\n",
       "      <th>SalesperCustomer</th>\n",
       "      <th>weekdays</th>\n",
       "      <th>Weekends</th>\n",
       "    </tr>\n",
       "  </thead>\n",
       "  <tbody>\n",
       "    <tr>\n",
       "      <th>5</th>\n",
       "      <td>1</td>\n",
       "      <td>7</td>\n",
       "      <td>0.0</td>\n",
       "      <td>0.0</td>\n",
       "      <td>0</td>\n",
       "      <td>0</td>\n",
       "      <td>0</td>\n",
       "      <td>0</td>\n",
       "      <td>2015</td>\n",
       "      <td>7</td>\n",
       "      <td>26</td>\n",
       "      <td>30</td>\n",
       "      <td>2015-07-26</td>\n",
       "      <td>c</td>\n",
       "      <td>a</td>\n",
       "      <td>1270.0</td>\n",
       "      <td>9.0</td>\n",
       "      <td>2008.0</td>\n",
       "      <td>0</td>\n",
       "      <td>0.0</td>\n",
       "      <td>0.0</td>\n",
       "      <td>0</td>\n",
       "      <td>0.000000</td>\n",
       "      <td>7</td>\n",
       "      <td>0</td>\n",
       "    </tr>\n",
       "    <tr>\n",
       "      <th>6</th>\n",
       "      <td>1</td>\n",
       "      <td>6</td>\n",
       "      <td>4364.0</td>\n",
       "      <td>500.0</td>\n",
       "      <td>1</td>\n",
       "      <td>0</td>\n",
       "      <td>0</td>\n",
       "      <td>0</td>\n",
       "      <td>2015</td>\n",
       "      <td>7</td>\n",
       "      <td>25</td>\n",
       "      <td>30</td>\n",
       "      <td>2015-07-25</td>\n",
       "      <td>c</td>\n",
       "      <td>a</td>\n",
       "      <td>1270.0</td>\n",
       "      <td>9.0</td>\n",
       "      <td>2008.0</td>\n",
       "      <td>0</td>\n",
       "      <td>0.0</td>\n",
       "      <td>0.0</td>\n",
       "      <td>0</td>\n",
       "      <td>8.728000</td>\n",
       "      <td>6</td>\n",
       "      <td>0</td>\n",
       "    </tr>\n",
       "    <tr>\n",
       "      <th>12</th>\n",
       "      <td>1</td>\n",
       "      <td>7</td>\n",
       "      <td>0.0</td>\n",
       "      <td>0.0</td>\n",
       "      <td>0</td>\n",
       "      <td>0</td>\n",
       "      <td>0</td>\n",
       "      <td>0</td>\n",
       "      <td>2015</td>\n",
       "      <td>7</td>\n",
       "      <td>19</td>\n",
       "      <td>29</td>\n",
       "      <td>2015-07-19</td>\n",
       "      <td>c</td>\n",
       "      <td>a</td>\n",
       "      <td>1270.0</td>\n",
       "      <td>9.0</td>\n",
       "      <td>2008.0</td>\n",
       "      <td>0</td>\n",
       "      <td>0.0</td>\n",
       "      <td>0.0</td>\n",
       "      <td>0</td>\n",
       "      <td>0.000000</td>\n",
       "      <td>7</td>\n",
       "      <td>0</td>\n",
       "    </tr>\n",
       "    <tr>\n",
       "      <th>13</th>\n",
       "      <td>1</td>\n",
       "      <td>6</td>\n",
       "      <td>4406.0</td>\n",
       "      <td>512.0</td>\n",
       "      <td>1</td>\n",
       "      <td>0</td>\n",
       "      <td>0</td>\n",
       "      <td>0</td>\n",
       "      <td>2015</td>\n",
       "      <td>7</td>\n",
       "      <td>18</td>\n",
       "      <td>29</td>\n",
       "      <td>2015-07-18</td>\n",
       "      <td>c</td>\n",
       "      <td>a</td>\n",
       "      <td>1270.0</td>\n",
       "      <td>9.0</td>\n",
       "      <td>2008.0</td>\n",
       "      <td>0</td>\n",
       "      <td>0.0</td>\n",
       "      <td>0.0</td>\n",
       "      <td>0</td>\n",
       "      <td>8.605469</td>\n",
       "      <td>6</td>\n",
       "      <td>0</td>\n",
       "    </tr>\n",
       "    <tr>\n",
       "      <th>19</th>\n",
       "      <td>1</td>\n",
       "      <td>7</td>\n",
       "      <td>0.0</td>\n",
       "      <td>0.0</td>\n",
       "      <td>0</td>\n",
       "      <td>0</td>\n",
       "      <td>0</td>\n",
       "      <td>0</td>\n",
       "      <td>2015</td>\n",
       "      <td>7</td>\n",
       "      <td>12</td>\n",
       "      <td>28</td>\n",
       "      <td>2015-07-12</td>\n",
       "      <td>c</td>\n",
       "      <td>a</td>\n",
       "      <td>1270.0</td>\n",
       "      <td>9.0</td>\n",
       "      <td>2008.0</td>\n",
       "      <td>0</td>\n",
       "      <td>0.0</td>\n",
       "      <td>0.0</td>\n",
       "      <td>0</td>\n",
       "      <td>0.000000</td>\n",
       "      <td>7</td>\n",
       "      <td>0</td>\n",
       "    </tr>\n",
       "  </tbody>\n",
       "</table>\n",
       "</div>"
      ],
      "text/plain": [
       "    Store  DayOfWeek   Sales  Customers  Open  Promo StateHoliday  \\\n",
       "5       1          7     0.0        0.0     0      0            0   \n",
       "6       1          6  4364.0      500.0     1      0            0   \n",
       "12      1          7     0.0        0.0     0      0            0   \n",
       "13      1          6  4406.0      512.0     1      0            0   \n",
       "19      1          7     0.0        0.0     0      0            0   \n",
       "\n",
       "    SchoolHoliday  Year  Month  Day  WeekOfYear      Dates StoreType  \\\n",
       "5               0  2015      7   26          30 2015-07-26         c   \n",
       "6               0  2015      7   25          30 2015-07-25         c   \n",
       "12              0  2015      7   19          29 2015-07-19         c   \n",
       "13              0  2015      7   18          29 2015-07-18         c   \n",
       "19              0  2015      7   12          28 2015-07-12         c   \n",
       "\n",
       "   Assortment  CompetitionDistance  CompetitionOpenSinceMonth  \\\n",
       "5           a               1270.0                        9.0   \n",
       "6           a               1270.0                        9.0   \n",
       "12          a               1270.0                        9.0   \n",
       "13          a               1270.0                        9.0   \n",
       "19          a               1270.0                        9.0   \n",
       "\n",
       "    CompetitionOpenSinceYear  Promo2  Promo2SinceWeek  Promo2SinceYear  \\\n",
       "5                     2008.0       0              0.0              0.0   \n",
       "6                     2008.0       0              0.0              0.0   \n",
       "12                    2008.0       0              0.0              0.0   \n",
       "13                    2008.0       0              0.0              0.0   \n",
       "19                    2008.0       0              0.0              0.0   \n",
       "\n",
       "   PromoInterval  SalesperCustomer  weekdays  Weekends  \n",
       "5              0          0.000000         7         0  \n",
       "6              0          8.728000         6         0  \n",
       "12             0          0.000000         7         0  \n",
       "13             0          8.605469         6         0  \n",
       "19             0          0.000000         7         0  "
      ]
     },
     "execution_count": 18,
     "metadata": {},
     "output_type": "execute_result"
    }
   ],
   "source": [
    "# checking weekends \n",
    "train_df.query('Weekends == 0').head()"
   ]
  },
  {
   "cell_type": "code",
   "execution_count": 19,
   "id": "770bef1d",
   "metadata": {},
   "outputs": [
    {
     "data": {
      "text/html": [
       "<div>\n",
       "<style scoped>\n",
       "    .dataframe tbody tr th:only-of-type {\n",
       "        vertical-align: middle;\n",
       "    }\n",
       "\n",
       "    .dataframe tbody tr th {\n",
       "        vertical-align: top;\n",
       "    }\n",
       "\n",
       "    .dataframe thead th {\n",
       "        text-align: right;\n",
       "    }\n",
       "</style>\n",
       "<table border=\"1\" class=\"dataframe\">\n",
       "  <thead>\n",
       "    <tr style=\"text-align: right;\">\n",
       "      <th></th>\n",
       "      <th>Id</th>\n",
       "      <th>Store</th>\n",
       "      <th>DayOfWeek</th>\n",
       "      <th>Date</th>\n",
       "      <th>Open</th>\n",
       "      <th>Promo</th>\n",
       "      <th>StateHoliday</th>\n",
       "      <th>SchoolHoliday</th>\n",
       "    </tr>\n",
       "  </thead>\n",
       "  <tbody>\n",
       "    <tr>\n",
       "      <th>0</th>\n",
       "      <td>1</td>\n",
       "      <td>1</td>\n",
       "      <td>4</td>\n",
       "      <td>2015-09-17</td>\n",
       "      <td>1.0</td>\n",
       "      <td>1</td>\n",
       "      <td>0</td>\n",
       "      <td>0</td>\n",
       "    </tr>\n",
       "    <tr>\n",
       "      <th>1</th>\n",
       "      <td>2</td>\n",
       "      <td>3</td>\n",
       "      <td>4</td>\n",
       "      <td>2015-09-17</td>\n",
       "      <td>1.0</td>\n",
       "      <td>1</td>\n",
       "      <td>0</td>\n",
       "      <td>0</td>\n",
       "    </tr>\n",
       "    <tr>\n",
       "      <th>2</th>\n",
       "      <td>3</td>\n",
       "      <td>7</td>\n",
       "      <td>4</td>\n",
       "      <td>2015-09-17</td>\n",
       "      <td>1.0</td>\n",
       "      <td>1</td>\n",
       "      <td>0</td>\n",
       "      <td>0</td>\n",
       "    </tr>\n",
       "    <tr>\n",
       "      <th>3</th>\n",
       "      <td>4</td>\n",
       "      <td>8</td>\n",
       "      <td>4</td>\n",
       "      <td>2015-09-17</td>\n",
       "      <td>1.0</td>\n",
       "      <td>1</td>\n",
       "      <td>0</td>\n",
       "      <td>0</td>\n",
       "    </tr>\n",
       "    <tr>\n",
       "      <th>4</th>\n",
       "      <td>5</td>\n",
       "      <td>9</td>\n",
       "      <td>4</td>\n",
       "      <td>2015-09-17</td>\n",
       "      <td>1.0</td>\n",
       "      <td>1</td>\n",
       "      <td>0</td>\n",
       "      <td>0</td>\n",
       "    </tr>\n",
       "  </tbody>\n",
       "</table>\n",
       "</div>"
      ],
      "text/plain": [
       "   Id  Store  DayOfWeek        Date  Open  Promo StateHoliday  SchoolHoliday\n",
       "0   1      1          4  2015-09-17   1.0      1            0              0\n",
       "1   2      3          4  2015-09-17   1.0      1            0              0\n",
       "2   3      7          4  2015-09-17   1.0      1            0              0\n",
       "3   4      8          4  2015-09-17   1.0      1            0              0\n",
       "4   5      9          4  2015-09-17   1.0      1            0              0"
      ]
     },
     "execution_count": 19,
     "metadata": {},
     "output_type": "execute_result"
    }
   ],
   "source": [
    "df_test.head()"
   ]
  },
  {
   "cell_type": "code",
   "execution_count": 20,
   "id": "13982adf",
   "metadata": {},
   "outputs": [
    {
     "data": {
      "text/plain": [
       "Store                        0\n",
       "DayOfWeek                    0\n",
       "Sales                        0\n",
       "Customers                    0\n",
       "Open                         0\n",
       "Promo                        0\n",
       "StateHoliday                 0\n",
       "SchoolHoliday                0\n",
       "Year                         0\n",
       "Month                        0\n",
       "Day                          0\n",
       "WeekOfYear                   0\n",
       "Dates                        0\n",
       "StoreType                    0\n",
       "Assortment                   0\n",
       "CompetitionDistance          0\n",
       "CompetitionOpenSinceMonth    0\n",
       "CompetitionOpenSinceYear     0\n",
       "Promo2                       0\n",
       "Promo2SinceWeek              0\n",
       "Promo2SinceYear              0\n",
       "PromoInterval                0\n",
       "SalesperCustomer             0\n",
       "weekdays                     0\n",
       "Weekends                     0\n",
       "dtype: int64"
      ]
     },
     "execution_count": 20,
     "metadata": {},
     "output_type": "execute_result"
    }
   ],
   "source": [
    "train_df.isnull().sum()"
   ]
  },
  {
   "cell_type": "code",
   "execution_count": 21,
   "id": "e6831b3e",
   "metadata": {},
   "outputs": [
    {
     "data": {
      "text/plain": [
       "Store                                 int64\n",
       "DayOfWeek                             int64\n",
       "Sales                               float64\n",
       "Customers                           float64\n",
       "Open                                  int64\n",
       "Promo                                 int64\n",
       "StateHoliday                         object\n",
       "SchoolHoliday                         int64\n",
       "Year                                  int64\n",
       "Month                                 int64\n",
       "Day                                   int64\n",
       "WeekOfYear                            int64\n",
       "Dates                        datetime64[ns]\n",
       "StoreType                            object\n",
       "Assortment                           object\n",
       "CompetitionDistance                 float64\n",
       "CompetitionOpenSinceMonth           float64\n",
       "CompetitionOpenSinceYear            float64\n",
       "Promo2                                int64\n",
       "Promo2SinceWeek                     float64\n",
       "Promo2SinceYear                     float64\n",
       "PromoInterval                        object\n",
       "SalesperCustomer                    float64\n",
       "weekdays                              int64\n",
       "Weekends                              int64\n",
       "dtype: object"
      ]
     },
     "execution_count": 21,
     "metadata": {},
     "output_type": "execute_result"
    }
   ],
   "source": [
    "train_df.dtypes"
   ]
  },
  {
   "cell_type": "code",
   "execution_count": 22,
   "id": "e256769d",
   "metadata": {},
   "outputs": [
    {
     "name": "stdout",
     "output_type": "stream",
     "text": [
      "<class 'pandas.core.frame.DataFrame'>\n",
      "RangeIndex: 1017209 entries, 0 to 1017208\n",
      "Data columns (total 25 columns):\n",
      " #   Column                     Non-Null Count    Dtype         \n",
      "---  ------                     --------------    -----         \n",
      " 0   Store                      1017209 non-null  int64         \n",
      " 1   DayOfWeek                  1017209 non-null  int64         \n",
      " 2   Sales                      1017209 non-null  float64       \n",
      " 3   Customers                  1017209 non-null  float64       \n",
      " 4   Open                       1017209 non-null  int64         \n",
      " 5   Promo                      1017209 non-null  int64         \n",
      " 6   StateHoliday               1017209 non-null  object        \n",
      " 7   SchoolHoliday              1017209 non-null  int64         \n",
      " 8   Year                       1017209 non-null  int64         \n",
      " 9   Month                      1017209 non-null  int64         \n",
      " 10  Day                        1017209 non-null  int64         \n",
      " 11  WeekOfYear                 1017209 non-null  int64         \n",
      " 12  Dates                      1017209 non-null  datetime64[ns]\n",
      " 13  StoreType                  1017209 non-null  object        \n",
      " 14  Assortment                 1017209 non-null  object        \n",
      " 15  CompetitionDistance        1017209 non-null  float64       \n",
      " 16  CompetitionOpenSinceMonth  1017209 non-null  float64       \n",
      " 17  CompetitionOpenSinceYear   1017209 non-null  float64       \n",
      " 18  Promo2                     1017209 non-null  int64         \n",
      " 19  Promo2SinceWeek            1017209 non-null  float64       \n",
      " 20  Promo2SinceYear            1017209 non-null  float64       \n",
      " 21  PromoInterval              1017209 non-null  object        \n",
      " 22  SalesperCustomer           1017209 non-null  float64       \n",
      " 23  weekdays                   1017209 non-null  int64         \n",
      " 24  Weekends                   1017209 non-null  int64         \n",
      "dtypes: datetime64[ns](1), float64(8), int64(12), object(4)\n",
      "memory usage: 194.0+ MB\n"
     ]
    }
   ],
   "source": [
    "train_df.info()"
   ]
  },
  {
   "cell_type": "markdown",
   "id": "8d2fc98d",
   "metadata": {},
   "source": [
    "## selecting features"
   ]
  },
  {
   "cell_type": "code",
   "execution_count": 23,
   "id": "f16397e2",
   "metadata": {},
   "outputs": [],
   "source": [
    "columns = ['Sales','Store', 'DayOfWeek', 'Open', 'Promo',  'SchoolHoliday', 'Day', 'WeekOfYear','Month', 'Year', 'StoreType',\n",
    "              'Assortment','CompetitionDistance', 'Promo2']\n",
    "\n",
    "feature_columns = ['Store', 'DayOfWeek', 'Open', 'Promo',  'SchoolHoliday', 'Day', 'WeekOfYear','Month', 'Year', 'StoreType',\n",
    "              'Assortment','CompetitionDistance', 'Promo2']"
   ]
  },
  {
   "cell_type": "code",
   "execution_count": 55,
   "id": "89cd4c51",
   "metadata": {},
   "outputs": [
    {
     "data": {
      "text/html": [
       "<div>\n",
       "<style scoped>\n",
       "    .dataframe tbody tr th:only-of-type {\n",
       "        vertical-align: middle;\n",
       "    }\n",
       "\n",
       "    .dataframe tbody tr th {\n",
       "        vertical-align: top;\n",
       "    }\n",
       "\n",
       "    .dataframe thead th {\n",
       "        text-align: right;\n",
       "    }\n",
       "</style>\n",
       "<table border=\"1\" class=\"dataframe\">\n",
       "  <thead>\n",
       "    <tr style=\"text-align: right;\">\n",
       "      <th></th>\n",
       "      <th>Store</th>\n",
       "      <th>DayOfWeek</th>\n",
       "      <th>Open</th>\n",
       "      <th>Promo</th>\n",
       "      <th>SchoolHoliday</th>\n",
       "      <th>Day</th>\n",
       "      <th>WeekOfYear</th>\n",
       "      <th>Month</th>\n",
       "      <th>Year</th>\n",
       "      <th>StoreType</th>\n",
       "      <th>Assortment</th>\n",
       "      <th>CompetitionDistance</th>\n",
       "      <th>Promo2</th>\n",
       "    </tr>\n",
       "  </thead>\n",
       "  <tbody>\n",
       "    <tr>\n",
       "      <th>61893</th>\n",
       "      <td>68</td>\n",
       "      <td>2</td>\n",
       "      <td>1</td>\n",
       "      <td>1</td>\n",
       "      <td>0</td>\n",
       "      <td>19</td>\n",
       "      <td>47</td>\n",
       "      <td>11</td>\n",
       "      <td>2013</td>\n",
       "      <td>a</td>\n",
       "      <td>c</td>\n",
       "      <td>250.0</td>\n",
       "      <td>1</td>\n",
       "    </tr>\n",
       "    <tr>\n",
       "      <th>10157</th>\n",
       "      <td>11</td>\n",
       "      <td>3</td>\n",
       "      <td>1</td>\n",
       "      <td>0</td>\n",
       "      <td>1</td>\n",
       "      <td>24</td>\n",
       "      <td>30</td>\n",
       "      <td>7</td>\n",
       "      <td>2013</td>\n",
       "      <td>a</td>\n",
       "      <td>c</td>\n",
       "      <td>960.0</td>\n",
       "      <td>1</td>\n",
       "    </tr>\n",
       "    <tr>\n",
       "      <th>583928</th>\n",
       "      <td>641</td>\n",
       "      <td>6</td>\n",
       "      <td>1</td>\n",
       "      <td>0</td>\n",
       "      <td>0</td>\n",
       "      <td>25</td>\n",
       "      <td>4</td>\n",
       "      <td>1</td>\n",
       "      <td>2014</td>\n",
       "      <td>a</td>\n",
       "      <td>c</td>\n",
       "      <td>610.0</td>\n",
       "      <td>1</td>\n",
       "    </tr>\n",
       "    <tr>\n",
       "      <th>936811</th>\n",
       "      <td>1028</td>\n",
       "      <td>4</td>\n",
       "      <td>1</td>\n",
       "      <td>1</td>\n",
       "      <td>0</td>\n",
       "      <td>16</td>\n",
       "      <td>16</td>\n",
       "      <td>4</td>\n",
       "      <td>2015</td>\n",
       "      <td>a</td>\n",
       "      <td>a</td>\n",
       "      <td>150.0</td>\n",
       "      <td>1</td>\n",
       "    </tr>\n",
       "    <tr>\n",
       "      <th>568679</th>\n",
       "      <td>624</td>\n",
       "      <td>7</td>\n",
       "      <td>0</td>\n",
       "      <td>0</td>\n",
       "      <td>0</td>\n",
       "      <td>29</td>\n",
       "      <td>26</td>\n",
       "      <td>6</td>\n",
       "      <td>2014</td>\n",
       "      <td>a</td>\n",
       "      <td>c</td>\n",
       "      <td>6920.0</td>\n",
       "      <td>0</td>\n",
       "    </tr>\n",
       "  </tbody>\n",
       "</table>\n",
       "</div>"
      ],
      "text/plain": [
       "        Store  DayOfWeek  Open  Promo  SchoolHoliday  Day  WeekOfYear  Month  \\\n",
       "61893      68          2     1      1              0   19          47     11   \n",
       "10157      11          3     1      0              1   24          30      7   \n",
       "583928    641          6     1      0              0   25           4      1   \n",
       "936811   1028          4     1      1              0   16          16      4   \n",
       "568679    624          7     0      0              0   29          26      6   \n",
       "\n",
       "        Year StoreType Assortment  CompetitionDistance  Promo2  \n",
       "61893   2013         a          c                250.0       1  \n",
       "10157   2013         a          c                960.0       1  \n",
       "583928  2014         a          c                610.0       1  \n",
       "936811  2015         a          a                150.0       1  \n",
       "568679  2014         a          c               6920.0       0  "
      ]
     },
     "execution_count": 55,
     "metadata": {},
     "output_type": "execute_result"
    }
   ],
   "source": [
    "sample_size = 10000\n",
    "sampled_df = train_df[columns].sample(sample_size)\n",
    "\n",
    "\n",
    "## Separet Test and train files\n",
    "train_x = sampled_df[feature_columns]\n",
    "train_y = sampled_df[['Sales']]\n",
    "train_x.head()"
   ]
  },
  {
   "cell_type": "code",
   "execution_count": 56,
   "id": "14765277",
   "metadata": {},
   "outputs": [
    {
     "data": {
      "text/plain": [
       "(10000, 1)"
      ]
     },
     "execution_count": 56,
     "metadata": {},
     "output_type": "execute_result"
    }
   ],
   "source": [
    "train_y.shape"
   ]
  },
  {
   "cell_type": "markdown",
   "id": "a0b3aab4",
   "metadata": {},
   "source": [
    "## Label Encoding"
   ]
  },
  {
   "cell_type": "code",
   "execution_count": 57,
   "id": "2de8d530",
   "metadata": {},
   "outputs": [
    {
     "name": "stdout",
     "output_type": "stream",
     "text": [
      "<class 'pandas.core.frame.DataFrame'>\n",
      "Int64Index: 10000 entries, 61893 to 218475\n",
      "Data columns (total 13 columns):\n",
      " #   Column               Non-Null Count  Dtype  \n",
      "---  ------               --------------  -----  \n",
      " 0   Store                10000 non-null  int64  \n",
      " 1   DayOfWeek            10000 non-null  int64  \n",
      " 2   Open                 10000 non-null  int64  \n",
      " 3   Promo                10000 non-null  int64  \n",
      " 4   SchoolHoliday        10000 non-null  int64  \n",
      " 5   Day                  10000 non-null  int64  \n",
      " 6   WeekOfYear           10000 non-null  int64  \n",
      " 7   Month                10000 non-null  int64  \n",
      " 8   Year                 10000 non-null  int64  \n",
      " 9   StoreType            10000 non-null  int32  \n",
      " 10  Assortment           10000 non-null  int32  \n",
      " 11  CompetitionDistance  10000 non-null  float64\n",
      " 12  Promo2               10000 non-null  int64  \n",
      "dtypes: float64(1), int32(2), int64(10)\n",
      "memory usage: 1015.6 KB\n"
     ]
    }
   ],
   "source": [
    "lb = LabelEncoder()\n",
    "train_x['StoreType'] = lb.fit_transform(train_x['StoreType'])\n",
    "train_x['Assortment'] = lb.fit_transform(train_x['Assortment'])\n",
    "\n",
    "train_x.info()"
   ]
  },
  {
   "cell_type": "code",
   "execution_count": 58,
   "id": "e092983f",
   "metadata": {},
   "outputs": [],
   "source": [
    "x_scaler = MinMaxScaler()\n",
    "y_scaler = MinMaxScaler()\n",
    "\n",
    "X = x_scaler.fit_transform(train_x)\n",
    "X = train_x\n",
    "Y = y_scaler.fit_transform(train_y)\n",
    "Y=train_y"
   ]
  },
  {
   "cell_type": "code",
   "execution_count": 59,
   "id": "8691813a",
   "metadata": {},
   "outputs": [
    {
     "data": {
      "image/png": "[encoded data removed]",
      "text/plain": [
       "<Figure size 800x400 with 2 Axes>"
      ]
     },
     "metadata": {},
     "output_type": "display_data"
    }
   ],
   "source": [
    "plt.figure(figsize=(8, 4))\n",
    "\n",
    "plt.subplot(1, 2, 1)\n",
    "plt.hist(X, bins=20)\n",
    "plt.title('Histogram of Scaled X')\n",
    "\n",
    "plt.subplot(1, 2, 2)\n",
    "plt.hist(Y, bins=20)\n",
    "plt.title('Histogram of Scaled Y')\n",
    "\n",
    "plt.tight_layout()\n",
    "plt.show()\n"
   ]
  },
  {
   "cell_type": "code",
   "execution_count": 60,
   "id": "b25764b0",
   "metadata": {},
   "outputs": [],
   "source": [
    "# split\n",
    "X_train, X_test, y_train, y_test = train_test_split(X, Y, test_size=0.2,random_state=35)"
   ]
  },
  {
   "cell_type": "code",
   "execution_count": 61,
   "id": "0fd0a63f",
   "metadata": {},
   "outputs": [
    {
     "data": {
      "text/plain": [
       "RandomForestRegressor(max_depth=25, random_state=0)"
      ]
     },
     "execution_count": 61,
     "metadata": {},
     "output_type": "execute_result"
    }
   ],
   "source": [
    "rf_reg = RandomForestRegressor(n_estimators = 100, max_depth=25, random_state=0)\n",
    "rf_reg.fit(X_train, y_train)"
   ]
  },
  {
   "cell_type": "code",
   "execution_count": 62,
   "id": "d3aa67d7",
   "metadata": {},
   "outputs": [
    {
     "name": "stdout",
     "output_type": "stream",
     "text": [
      "Prediction Score of the Model is 73.96%\n"
     ]
    }
   ],
   "source": [
    "# score of the model\n",
    "score = rf_reg.score(X_test, y_test)\n",
    "print(f\"Prediction Score of the Model is {round(score * 100, 2)}%\")"
   ]
  },
  {
   "cell_type": "markdown",
   "id": "8f9725e1",
   "metadata": {},
   "source": [
    "## Building models with sklearn pipelines"
   ]
  },
  {
   "cell_type": "code",
   "execution_count": 63,
   "id": "a84d04bf",
   "metadata": {},
   "outputs": [],
   "source": [
    "## Prepare the training and test features\n",
    "x = train_x\n",
    "y = train_y\n",
    "\n",
    "X_train, X_test, y_train, y_test = train_test_split(x, y,test_size=0.2)"
   ]
  },
  {
   "cell_type": "markdown",
   "id": "71fac968",
   "metadata": {},
   "source": [
    "### Creating Pipeline"
   ]
  },
  {
   "cell_type": "code",
   "execution_count": 64,
   "id": "d83864b6",
   "metadata": {},
   "outputs": [],
   "source": [
    "rfr = Pipeline(steps=[\n",
    "    ('scaler1', MinMaxScaler()),\n",
    "    ('rfr_regretion', RandomForestRegressor(n_estimators = 100, max_depth=5, random_state=0))\n",
    "])\n",
    "\n",
    "lr = Pipeline(steps=[\n",
    "    ('scaler2', MinMaxScaler()),\n",
    "    ('lr_regretion', LinearRegression())\n",
    "])\n",
    "\n",
    "dt = Pipeline(steps=[\n",
    "    ('scaler3', MinMaxScaler()),\n",
    "    ('dt_regretion', DecisionTreeRegressor(random_state = 0)  )\n",
    "])"
   ]
  },
  {
   "cell_type": "markdown",
   "id": "e1a89095",
   "metadata": {},
   "source": [
    "### fitting"
   ]
  },
  {
   "cell_type": "code",
   "execution_count": 65,
   "id": "3cf7bee1",
   "metadata": {},
   "outputs": [
    {
     "data": {
      "text/plain": [
       "Pipeline(steps=[('scaler3', MinMaxScaler()),\n",
       "                ('dt_regretion', DecisionTreeRegressor(random_state=0))])"
      ]
     },
     "execution_count": 65,
     "metadata": {},
     "output_type": "execute_result"
    }
   ],
   "source": [
    "rfr.fit(X_train, y_train)\n",
    "lr.fit(X_train, y_train)\n",
    "dt.fit(X_train, y_train)"
   ]
  },
  {
   "cell_type": "code",
   "execution_count": 66,
   "id": "39dab6e9",
   "metadata": {},
   "outputs": [
    {
     "name": "stdout",
     "output_type": "stream",
     "text": [
      "Prediction Score of the RandomForestRegretion is 67.48%\n",
      "Prediction Score of the LinearRegretion is 64.71%\n",
      "Prediction Score of the DecisionTree is 55.88%\n"
     ]
    }
   ],
   "source": [
    "# printing score\n",
    "rfr_score = rfr.score(X_test, y_test)\n",
    "lr_score = lr.score(X_test, y_test)\n",
    "dt_score = dt.score(X_test, y_test)\n",
    "\n",
    "print(f\"Prediction Score of the RandomForestRegretion is {round(rfr_score * 100, 2)}%\")\n",
    "print(f\"Prediction Score of the LinearRegretion is {round(lr_score * 100, 2)}%\")\n",
    "print(f\"Prediction Score of the DecisionTree is {round(dt_score * 100, 2)}%\")\n"
   ]
  },
  {
   "cell_type": "markdown",
   "id": "a6f78b78",
   "metadata": {},
   "source": [
    "## loss function"
   ]
  },
  {
   "cell_type": "code",
   "execution_count": 67,
   "id": "0759711e",
   "metadata": {},
   "outputs": [],
   "source": [
    "from sklearn.metrics import mean_absolute_error, mean_squared_error, r2_score\n"
   ]
  },
  {
   "cell_type": "code",
   "execution_count": 68,
   "id": "66bd0b27",
   "metadata": {},
   "outputs": [],
   "source": [
    "#Make a prediction\n",
    "\n",
    "rfr_prediction = rfr.predict(X_test)\n",
    "lr_prediction = lr.predict(X_test)\n",
    "dt_prediction = dt.predict(X_test)\n",
    "\n"
   ]
  },
  {
   "cell_type": "code",
   "execution_count": 69,
   "id": "b3049690",
   "metadata": {},
   "outputs": [],
   "source": [
    "# Evaluate RandomForestRegressor\n",
    "rf_mae = mean_absolute_error(y_test, rfr_prediction)\n",
    "rf_mse = mean_squared_error(y_test, rfr_prediction)\n",
    "rf_rmse = mean_squared_error(y_test, rfr_prediction, squared=False)  # RMSE\n",
    "rf_r2 = r2_score(y_test, rfr_prediction)"
   ]
  },
  {
   "cell_type": "code",
   "execution_count": 70,
   "id": "4eccb73f",
   "metadata": {},
   "outputs": [],
   "source": [
    "# Evaluate LinearRegression\n",
    "lr_mae = mean_absolute_error(y_test, lr_prediction)\n",
    "lr_mse = mean_squared_error(y_test, lr_prediction)\n",
    "lr_rmse = mean_squared_error(y_test, lr_prediction, squared=False)  # RMSE\n",
    "lr_r2 = r2_score(y_test, lr_prediction)"
   ]
  },
  {
   "cell_type": "code",
   "execution_count": 71,
   "id": "fe6139a5",
   "metadata": {},
   "outputs": [],
   "source": [
    "# Evaluate DecisionTreeRegressor\n",
    "dt_mae = mean_absolute_error(y_test, dt_prediction)\n",
    "dt_mse = mean_squared_error(y_test, dt_prediction)\n",
    "dt_rmse = mean_squared_error(y_test, dt_prediction, squared=False)  # RMSE\n",
    "dt_r2 = r2_score(y_test, dt_prediction)"
   ]
  },
  {
   "cell_type": "markdown",
   "id": "55a3f7d5",
   "metadata": {},
   "source": [
    "## Printing loss result"
   ]
  },
  {
   "cell_type": "code",
   "execution_count": 72,
   "id": "c5f45c86",
   "metadata": {},
   "outputs": [
    {
     "name": "stdout",
     "output_type": "stream",
     "text": [
      "RandomForest Mean Square Loss : 1886.243375046013\n",
      "Linear Mean Square Loss : 1964.850170006086\n",
      "DecisionTree Mean Square Loss : 2197.0402153806835\n",
      "RandomForest mae : 1364.6131313240478\n"
     ]
    }
   ],
   "source": [
    "print(f\"RandomForest Mean Square Loss : {rf_rmse}\")\n",
    "print(f\"Linear Mean Square Loss : {lr_rmse}\")\n",
    "print(f\"DecisionTree Mean Square Loss : {dt_rmse }\")\n",
    "print(f\"RandomForest mae : {rf_mae}\")"
   ]
  },
  {
   "cell_type": "markdown",
   "id": "a0e40b21",
   "metadata": {},
   "source": [
    "# Post Prediction analysis"
   ]
  },
  {
   "cell_type": "code",
   "execution_count": 73,
   "id": "33f11206",
   "metadata": {},
   "outputs": [
    {
     "data": {
      "text/plain": [
       "Text(0.5, 1.0, 'RandomForestRegretion Feature Importance')"
      ]
     },
     "execution_count": 73,
     "metadata": {},
     "output_type": "execute_result"
    },
    {
     "data": {
      "image/png": "[encoded data removed]",
      "text/plain": [
       "<Figure size 2000x800 with 1 Axes>"
      ]
     },
     "metadata": {},
     "output_type": "display_data"
    }
   ],
   "source": [
    "important_features = rfr[1].feature_importances_\n",
    "plt.figure(figsize=(20, 8))\n",
    "plt.bar(feature_columns, important_features)\n",
    "plt.title('RandomForestRegretion Feature Importance')"
   ]
  },
  {
   "cell_type": "code",
   "execution_count": 74,
   "id": "1d9c4aae",
   "metadata": {},
   "outputs": [
    {
     "data": {
      "text/plain": [
       "Text(0.5, 1.0, 'LinearRegretion Feature Importance')"
      ]
     },
     "execution_count": 74,
     "metadata": {},
     "output_type": "execute_result"
    },
    {
     "data": {
      "image/png": "[encoded data removed]",
      "text/plain": [
       "<Figure size 2000x700 with 1 Axes>"
      ]
     },
     "metadata": {},
     "output_type": "display_data"
    }
   ],
   "source": [
    "important_features = lr[1].coef_[0]\n",
    "plt.figure(figsize=(20, 7))\n",
    "plt.bar(feature_columns, list(important_features))\n",
    "plt.title(\"LinearRegretion Feature Importance\")"
   ]
  },
  {
   "cell_type": "code",
   "execution_count": 75,
   "id": "b766d4ee",
   "metadata": {},
   "outputs": [
    {
     "data": {
      "text/plain": [
       "<BarContainer object of 13 artists>"
      ]
     },
     "execution_count": 75,
     "metadata": {},
     "output_type": "execute_result"
    },
    {
     "data": {
      "image/png": "[encoded data removed]",
      "text/plain": [
       "<Figure size 2000x800 with 1 Axes>"
      ]
     },
     "metadata": {},
     "output_type": "display_data"
    }
   ],
   "source": [
    "important_features = dt[1].feature_importances_\n",
    "plt.figure(figsize=(20, 8))\n",
    "plt.bar(feature_columns, important_features)"
   ]
  },
  {
   "cell_type": "markdown",
   "id": "4d9dd067",
   "metadata": {},
   "source": [
    "## In the post-analysis summary:\n",
    "\n",
    "* Certain features emerge as exceptionally important, notably \"Open\" being the most influential feature.\n",
    "* \"Promo\" also exhibits significant impact within the model.\n",
    "* However, a few features display negligible or no positive influence on sales."
   ]
  },
  {
   "cell_type": "markdown",
   "id": "bfe4ab4a",
   "metadata": {},
   "source": [
    "## Serialize models"
   ]
  },
  {
   "cell_type": "code",
   "execution_count": 76,
   "id": "4cee02b9",
   "metadata": {},
   "outputs": [],
   "source": [
    "import pickle"
   ]
  },
  {
   "cell_type": "code",
   "execution_count": 77,
   "id": "62f26506",
   "metadata": {},
   "outputs": [],
   "source": [
    "import pickle\n",
    "from time import gmtime, strftime\n",
    "import os\n",
    "\n",
    "# Define your directory\n",
    "directory = '../models/'\n",
    "os.makedirs(directory, exist_ok=True)\n",
    "\n",
    "time = strftime(\"%Y-%m-%d-%H-%M-%S\", gmtime())\n",
    "reg_model_file_name = f'reg-{time}.pkl'\n",
    "lr_model_file_name = f'lt-{time}.pkl'\n",
    "dt_model_file_name = f'dt-{time}.pkl'\n",
    "\n",
    "files = [reg_model_file_name, lr_model_file_name, dt_model_file_name]\n",
    "\n",
    "# Assuming rfr, lr, and dt models are defined earlier in your code\n",
    "models = [rfr, lr, dt]\n",
    "\n",
    "for i in range(len(files)):\n",
    "    with open(directory + files[i], 'wb') as file_obj:\n",
    "        pickle.dump(models[i], file_obj)\n"
   ]
  },
  {
   "cell_type": "code",
   "execution_count": 78,
   "id": "7e23fcd9",
   "metadata": {},
   "outputs": [
    {
     "data": {
      "text/plain": [
       "['07-01-2024-15-13-45-465213_dt_model.pkl']"
      ]
     },
     "execution_count": 78,
     "metadata": {},
     "output_type": "execute_result"
    }
   ],
   "source": [
    "import joblib\n",
    "from datetime import datetime\n",
    "\n",
    "timestamp = datetime.now().strftime(\"%d-%m-%Y-%H-%M-%S-%f\")\n",
    "\n",
    "# Serialize and save models with timestamp\n",
    "rf_model_file_name = f\"{timestamp}_rf_model.pkl\"\n",
    "lr_model_file_name = f\"{timestamp}_lr_model.pkl\"\n",
    "dt_model_file_name = f\"{timestamp}_dt_model.pkl\"\n",
    "\n",
    "joblib.dump(rfr, rf_model_file_name)\n",
    "joblib.dump(lr, lr_model_file_name)\n",
    "joblib.dump(dt, dt_model_file_name)\n",
    "\n"
   ]
  },
  {
   "cell_type": "markdown",
   "id": "e8c54849",
   "metadata": {},
   "source": [
    "## Loading models"
   ]
  },
  {
   "cell_type": "code",
   "execution_count": 79,
   "id": "de37b9b7",
   "metadata": {},
   "outputs": [],
   "source": [
    "rf_model = joblib.load(rf_model_file_name)\n",
    "lr_model = joblib.load(lr_model_file_name)\n",
    "dt_model = joblib.load(dt_model_file_name)"
   ]
  },
  {
   "cell_type": "markdown",
   "id": "02033230",
   "metadata": {},
   "source": [
    "## getting prediction score of models "
   ]
  },
  {
   "cell_type": "code",
   "execution_count": 80,
   "id": "aff99197",
   "metadata": {},
   "outputs": [
    {
     "data": {
      "text/plain": [
       "0.5588110370918622"
      ]
     },
     "execution_count": 80,
     "metadata": {},
     "output_type": "execute_result"
    }
   ],
   "source": [
    "dt_score = dt_model.score(X_test, y_test)\n",
    "dt_score"
   ]
  },
  {
   "cell_type": "code",
   "execution_count": 81,
   "id": "9634252c",
   "metadata": {},
   "outputs": [
    {
     "data": {
      "text/plain": [
       "0.647135877311261"
      ]
     },
     "execution_count": 81,
     "metadata": {},
     "output_type": "execute_result"
    }
   ],
   "source": [
    "lr_score = lr_model.score(X_test, y_test)\n",
    "lr_score"
   ]
  },
  {
   "cell_type": "code",
   "execution_count": 54,
   "id": "c4c6855f",
   "metadata": {},
   "outputs": [
    {
     "data": {
      "text/plain": [
       "0.5893277795261831"
      ]
     },
     "execution_count": 54,
     "metadata": {},
     "output_type": "execute_result"
    }
   ],
   "source": [
    "rf_score = rf_model.score(X_test, y_test)\n",
    "lr_score"
   ]
  },
  {
   "cell_type": "code",
   "execution_count": null,
   "id": "4d2ffbfc",
   "metadata": {},
   "outputs": [],
   "source": []
  }
 ],
 "metadata": {
  "kernelspec": {
   "display_name": "Python 3 (ipykernel)",
   "language": "python",
   "name": "python3"
  },
  "language_info": {
   "codemirror_mode": {
    "name": "ipython",
    "version": 3
   },
   "file_extension": ".py",
   "mimetype": "text/x-python",
   "name": "python",
   "nbconvert_exporter": "python",
   "pygments_lexer": "ipython3",
   "version": "3.9.13"
  }
 },
 "nbformat": 4,
 "nbformat_minor": 5
}
